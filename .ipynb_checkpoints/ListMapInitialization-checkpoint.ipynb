{
 "cells": [
  {
   "cell_type": "markdown",
   "metadata": {},
   "source": [
    "# New Collection Initialization Helpers\n",
    "Java 9 introduced helper methods for setting up immutable Lists and Maps.\n",
    "\n",
    "## Lists\n",
    "Previously you either set up a `List` using multiple lines:"
   ]
  },
  {
   "cell_type": "code",
   "execution_count": 3,
   "metadata": {},
   "outputs": [
    {
     "data": {
      "text/plain": [
       "[1, 2, 3, 4]"
      ]
     },
     "execution_count": 3,
     "metadata": {},
     "output_type": "execute_result"
    }
   ],
   "source": [
    "List<Integer> multiLineSetup = new ArrayList<>();\n",
    "multiLineSetup.add(1);\n",
    "multiLineSetup.add(2);\n",
    "multiLineSetup.add(3);\n",
    "multiLineSetup.add(4);\n",
    "multiLineSetup;"
   ]
  },
  {
   "cell_type": "markdown",
   "metadata": {},
   "source": [
    "or using the `Arrays.asList(...)` method which takes variable arguments (varargs):"
   ]
  },
  {
   "cell_type": "code",
   "execution_count": 4,
   "metadata": {},
   "outputs": [
    {
     "data": {
      "text/plain": [
       "[1, 2, 3, 4]"
      ]
     },
     "execution_count": 4,
     "metadata": {},
     "output_type": "execute_result"
    }
   ],
   "source": [
    "List<Integer> fromArraysAsList = Arrays.asList(1, 2, 3, 4);\n",
    "fromArraysAsList;"
   ]
  },
  {
   "cell_type": "markdown",
   "metadata": {},
   "source": [
    "As of Java 9 there is a quick simple syntax for this, using a new `List.of(...)` method, which similarly takes a varargs:"
   ]
  },
  {
   "cell_type": "code",
   "execution_count": 5,
   "metadata": {},
   "outputs": [
    {
     "data": {
      "text/plain": [
       "[1, 2, 3, 4]"
      ]
     },
     "execution_count": 5,
     "metadata": {},
     "output_type": "execute_result"
    }
   ],
   "source": [
    "List<Integer> fromListOf = List.of(1, 2, 3, 4);\n",
    "fromListOf;"
   ]
  },
  {
   "cell_type": "markdown",
   "metadata": {},
   "source": [
    "They all make a list with the same contents.\n",
    "### List Types\n",
    "In the multi-line example you have complete control over the implementation of List that's used because you call that implementation's constructor, in this case `new ArrayList<>()`:"
   ]
  },
  {
   "cell_type": "code",
   "execution_count": 6,
   "metadata": {},
   "outputs": [
    {
     "data": {
      "text/plain": [
       "class java.util.ArrayList"
      ]
     },
     "execution_count": 6,
     "metadata": {},
     "output_type": "execute_result"
    }
   ],
   "source": [
    "multiLineSetup.getClass();\n"
   ]
  },
  {
   "cell_type": "markdown",
   "metadata": {},
   "source": [
    "The `Arrays.asList()` method gives an implementation of `List` called `ArrayList`.  "
   ]
  },
  {
   "cell_type": "code",
   "execution_count": 7,
   "metadata": {},
   "outputs": [
    {
     "data": {
      "text/plain": [
       "class java.util.Arrays$ArrayList"
      ]
     },
     "execution_count": 7,
     "metadata": {},
     "output_type": "execute_result"
    }
   ],
   "source": [
    "fromArraysAsList.getClass();"
   ]
  },
  {
   "cell_type": "markdown",
   "metadata": {},
   "source": [
    "It is not the same `ArrayList` as above, though, but an inner class of the `Arrays` class which is just a `List`-implementing view on the original array.  Like an array, this type of `List` cannot be increased in size but can have its elements changed.\n",
    "\n",
    "The new `Lists.of(...)` method, however, returns an immutable implementation of `List`:"
   ]
  },
  {
   "cell_type": "code",
   "execution_count": 8,
   "metadata": {},
   "outputs": [
    {
     "data": {
      "text/plain": [
       "class java.util.ImmutableCollections$ListN"
      ]
     },
     "execution_count": 8,
     "metadata": {},
     "output_type": "execute_result"
    }
   ],
   "source": [
    "fromListOf.getClass();"
   ]
  },
  {
   "cell_type": "markdown",
   "metadata": {},
   "source": [
    "While this could be inconvenient if you wanted to mutate your `List`, most of the time it will be sufficient -- the chances are that it will usually be a suitable replacement for `Arrays.asList(...)`, since that implementation is only partly mutable anyway.  And if you use it as your go-to way to make a `List` then in your code `List`s will be immutable by default, which is a good principle.  \n",
    "\n",
    "Obviously if you need a specific `List` implementation you can use an explicit constructor call."
   ]
  },
  {
   "cell_type": "code",
   "execution_count": 9,
   "metadata": {},
   "outputs": [
    {
     "data": {
      "text/plain": [
       "[1, 2, 3, 4]"
      ]
     },
     "execution_count": 9,
     "metadata": {},
     "output_type": "execute_result"
    }
   ],
   "source": [
    "List<Integer> mutableList = new ArrayList(List.of(1, 2, 3, 4));\n",
    "mutableList;"
   ]
  },
  {
   "cell_type": "code",
   "execution_count": 10,
   "metadata": {},
   "outputs": [
    {
     "data": {
      "text/plain": [
       "class java.util.ArrayList"
      ]
     },
     "execution_count": 10,
     "metadata": {},
     "output_type": "execute_result"
    }
   ],
   "source": [
    "mutableList.getClass();"
   ]
  },
  {
   "cell_type": "markdown",
   "metadata": {},
   "source": [
    "## Maps\n",
    "Maps have long been verbose to set up, requiring multiple lines:"
   ]
  },
  {
   "cell_type": "code",
   "execution_count": 11,
   "metadata": {},
   "outputs": [
    {
     "data": {
      "text/plain": [
       "{Hi=10, Hello=3, Greetings=1, Hey=2}"
      ]
     },
     "execution_count": 11,
     "metadata": {},
     "output_type": "execute_result"
    }
   ],
   "source": [
    "Map<String, Integer> multiLineMap = new HashMap<>();\n",
    "multiLineMap.put(\"Hello\", 3);\n",
    "multiLineMap.put(\"Hi\", 10);\n",
    "multiLineMap.put(\"Greetings\", 1);\n",
    "multiLineMap.put(\"Hey\", 2);\n",
    "multiLineMap;"
   ]
  },
  {
   "cell_type": "markdown",
   "metadata": {},
   "source": [
    "This can feel very much like overkill when all you want to do is set up a basic Map, for example in a test.  If you wanted a `static final Map` constant in a class you'd probably end up with the four `put(k, v)` calls in a static initializer block, which feels a bit awkward.\n",
    "\n",
    "The new `Map.of()` method replaces this with a simpler syntax.  It takes arguments in pairs with the key first and then the value:"
   ]
  },
  {
   "cell_type": "code",
   "execution_count": 12,
   "metadata": {},
   "outputs": [
    {
     "data": {
      "text/plain": [
       "{Hi=10, Hello=3, Greetings=1, Hey=2}"
      ]
     },
     "execution_count": 12,
     "metadata": {},
     "output_type": "execute_result"
    }
   ],
   "source": [
    "Map<String, Integer> fromMapOf = Map.of(\"Hello\", 3, \"Hi\", 10, \"Greetings\", 1, \"Hey\", 2);\n",
    "fromMapOf;"
   ]
  },
  {
   "cell_type": "markdown",
   "metadata": {},
   "source": [
    "There are five overloaded versions of this method, taking 2, 4, 6, 8, and 10 arguments respectively.  Longer argument-lists would quickly become awkward to read.  However there is also a variation of this method which takes multiple `Map.Entry` objects, and a new static method `Map.entry(k,v)` has been provided to set these up:"
   ]
  },
  {
   "cell_type": "code",
   "execution_count": 13,
   "metadata": {},
   "outputs": [
    {
     "data": {
      "text/plain": [
       "{Hi=10, Hello=3, Greetings=1, Hey=2}"
      ]
     },
     "execution_count": 13,
     "metadata": {},
     "output_type": "execute_result"
    }
   ],
   "source": [
    "Map<String, Integer> fromMapOfEntries = Map.ofEntries(Map.entry(\"Hello\", 3),\n",
    "            Map.entry(\"Hi\", 10), Map.entry(\"Greetings\", 1), Map.entry(\"Hey\", 2));\n",
    "fromMapOfEntries;"
   ]
  },
  {
   "cell_type": "markdown",
   "metadata": {},
   "source": [
    "Importing the static method makes this fractionally more readable:"
   ]
  },
  {
   "cell_type": "code",
   "execution_count": 14,
   "metadata": {},
   "outputs": [
    {
     "data": {
      "text/plain": [
       "{Hi=10, Hello=3, Greetings=1, Hey=2}"
      ]
     },
     "execution_count": 14,
     "metadata": {},
     "output_type": "execute_result"
    }
   ],
   "source": [
    "import static java.util.Map.entry;\n",
    "fromMapOfEntries = Map.ofEntries(entry(\"Hello\", 3),\n",
    "            entry(\"Hi\", 10), entry(\"Greetings\", 1), entry(\"Hey\", 2));\n",
    "fromMapOfEntries;"
   ]
  },
  {
   "cell_type": "markdown",
   "metadata": {},
   "source": [
    "### Map types\n",
    "Obviously the multi-line map setup given first allows control over the implementation of `Map` used because you called its constructor explicitly.  In this example I used a `HashMap`:"
   ]
  },
  {
   "cell_type": "code",
   "execution_count": 15,
   "metadata": {},
   "outputs": [
    {
     "data": {
      "text/plain": [
       "class java.util.HashMap"
      ]
     },
     "execution_count": 15,
     "metadata": {},
     "output_type": "execute_result"
    }
   ],
   "source": [
    "multiLineMap.getClass();"
   ]
  },
  {
   "cell_type": "markdown",
   "metadata": {},
   "source": [
    "The `Map.of()` and `Map.ofEntries()` methods provide immutable maps:"
   ]
  },
  {
   "cell_type": "code",
   "execution_count": 16,
   "metadata": {},
   "outputs": [
    {
     "data": {
      "text/plain": [
       "class java.util.ImmutableCollections$MapN"
      ]
     },
     "execution_count": 16,
     "metadata": {},
     "output_type": "execute_result"
    }
   ],
   "source": [
    "fromMapOf.getClass();"
   ]
  },
  {
   "cell_type": "code",
   "execution_count": 17,
   "metadata": {},
   "outputs": [
    {
     "data": {
      "text/plain": [
       "class java.util.ImmutableCollections$MapN"
      ]
     },
     "execution_count": 17,
     "metadata": {},
     "output_type": "execute_result"
    }
   ],
   "source": [
    "fromMapOfEntries.getClass();"
   ]
  },
  {
   "cell_type": "markdown",
   "metadata": {},
   "source": [
    "As in the case of the `List`, an immutable implementation is usually going to be suitable.  If not then an explicit constructor call will have to be used for control over the implementation."
   ]
  },
  {
   "cell_type": "code",
   "execution_count": 18,
   "metadata": {},
   "outputs": [
    {
     "data": {
      "text/plain": [
       "{Hi=10, Greetings=1, Hello=3, Hey=2}"
      ]
     },
     "execution_count": 18,
     "metadata": {},
     "output_type": "execute_result"
    }
   ],
   "source": [
    "Map<String, Integer> mutableMap = new HashMap(Map.of(\"Hello\", 3, \"Hi\", 10, \"Greetings\", 1, \"Hey\", 2));\n",
    "mutableMap;"
   ]
  },
  {
   "cell_type": "code",
   "execution_count": 19,
   "metadata": {},
   "outputs": [
    {
     "data": {
      "text/plain": [
       "class java.util.HashMap"
      ]
     },
     "execution_count": 19,
     "metadata": {},
     "output_type": "execute_result"
    }
   ],
   "source": [
    "mutableMap.getClass();"
   ]
  }
 ],
 "metadata": {
  "kernelspec": {
   "display_name": "Java",
   "language": "java",
   "name": "java"
  },
  "language_info": {
   "codemirror_mode": "java",
   "file_extension": ".java",
   "mimetype": "text/x-java-source",
   "name": "Java",
   "pygments_lexer": "java",
   "version": "11.0.2+9-LTS"
  }
 },
 "nbformat": 4,
 "nbformat_minor": 2
}
